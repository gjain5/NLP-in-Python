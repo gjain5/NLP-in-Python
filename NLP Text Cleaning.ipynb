{
 "cells": [
  {
   "cell_type": "code",
   "execution_count": 184,
   "metadata": {
    "scrolled": false
   },
   "outputs": [],
   "source": [
    "import os.path\n",
    "import pandas as pd\n",
    "import numpy as np\n",
    "import ast\n",
    "\n",
    "# Splitting on new lines to create a list of strings in the file\n",
    "fmtm  = open(os.path.join('cornell_movie_dialogs_corpus', 'movie_titles_metadata.txt')).read().split('\\n')\n",
    "\n",
    "# Removing the delimiters\n",
    "#cols = ['movieID', 'movie title', 'movie year', 'IMDB rating', 'IMDB votes', 'genres']    \n",
    "title_data_corpus = []\n",
    "for x in fmtm:\n",
    "    if (x != \"\"):\n",
    "        title_data_corpus.append((x.split(' +++$+++ ')))\n",
    "    \n",
    "# Creating a dictionary to link movieID to movie title\n",
    "MovieLookup = {}\n",
    "for i in range(len(title_data_corpus)):\n",
    "    key = title_data_corpus[i][0]\n",
    "    value = title_data_corpus[i][1]\n",
    "    MovieLookup[key] = value\n",
    "\n",
    "# Creating a dictionary to link characterID to character name\n",
    "fmcm = open(os.path.join('cornell_movie_dialogs_corpus', 'movie_characters_metadata.txt')).read().split('\\n')\n",
    "character_data_corpus = []\n",
    "\n",
    "for x in fmcm:\n",
    "    if (x != \"\"):\n",
    "        character_data_corpus.append((x.split(' +++$+++ ')))\n",
    "\n",
    "CharacterLookup = {}\n",
    "for i in range(len(character_data_corpus)):\n",
    "    key = character_data_corpus[i][0]\n",
    "    value = character_data_corpus[i][1]\n",
    "    CharacterLookup[key] = value\n",
    "    \n",
    "# Creating a dictionary to link lineID to line text\n",
    "fml = open(os.path.join('cornell_movie_dialogs_corpus', 'movie_lines.txt')).read().split('\\n')\n",
    "movie_line_corpus = []\n",
    "\n",
    "for x in fml:\n",
    "    if (x != \"\"):\n",
    "        movie_line_corpus.append((x.split(' +++$+++ ')))\n",
    "\n",
    "LineLookup = {}\n",
    "for i in range(len(movie_line_corpus)):\n",
    "    key = movie_line_corpus[i][0]\n",
    "    value = movie_line_corpus[i][4]\n",
    "    LineLookup[key] = value"
   ]
  },
  {
   "cell_type": "code",
   "execution_count": 194,
   "metadata": {},
   "outputs": [
    {
     "name": "stdout",
     "output_type": "stream",
     "text": [
      "question=L194 responseL195\n",
      "question=L195 responseL196\n",
      "question=L196 responseL197\n",
      "question=L198 responseL199\n",
      "question=L200 responseL201\n",
      "question=L201 responseL202\n",
      "question=L202 responseL203\n",
      "question=L204 responseL205\n",
      "question=L205 responseL206\n",
      "question=L207 responseL208\n",
      "question=L271 responseL272\n",
      "question=L272 responseL273\n",
      "question=L273 responseL274\n",
      "question=L274 responseL275\n",
      "question=L276 responseL277\n",
      "question=L280 responseL281\n",
      "question=L363 responseL364\n",
      "question=L365 responseL366\n"
     ]
    }
   ],
   "source": [
    "# Creating a dictionary to link every comment with its corresponding response\n",
    "fmc = open(os.path.join('cornell_movie_dialogs_corpus', 'movie_conversations.txt')).read().split('\\n')\n",
    "\n",
    "count=10\n",
    "for x in fmc:\n",
    "    if (x != \"\"):\n",
    "        current_line = (x.split(' +++$+++ '))\n",
    "        conversation_flow = current_line[3]\n",
    "        \n",
    "        # To convert the string to list\n",
    "        conversation_flow = ast.literal_eval(conversation_flow)\n",
    "        \n",
    "        # Storing questions and their corresponding responses for later use\n",
    "        for i in range(len(conversation_flow)-1):\n",
    "            print('question='+conversation_flow[i],'response'+conversation_flow[i+1])\n",
    "        count=count-1\n",
    "    if (count <= 0):\n",
    "        break"
   ]
  },
  {
   "cell_type": "code",
   "execution_count": null,
   "metadata": {},
   "outputs": [],
   "source": []
  }
 ],
 "metadata": {
  "kernelspec": {
   "display_name": "Python 3",
   "language": "python",
   "name": "python3"
  },
  "language_info": {
   "codemirror_mode": {
    "name": "ipython",
    "version": 3
   },
   "file_extension": ".py",
   "mimetype": "text/x-python",
   "name": "python",
   "nbconvert_exporter": "python",
   "pygments_lexer": "ipython3",
   "version": "3.7.1"
  }
 },
 "nbformat": 4,
 "nbformat_minor": 2
}
