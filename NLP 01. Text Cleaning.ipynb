{
 "cells": [
  {
   "cell_type": "code",
   "execution_count": 23,
   "metadata": {
    "scrolled": false
   },
   "outputs": [],
   "source": [
    "import os.path\n",
    "import numpy as np\n",
    "import ast\n",
    "import pickle\n",
    "from nltk.tokenize import RegexpTokenizer\n",
    "\n",
    "# Splitting on new lines to create a list of strings in the file\n",
    "fmtm  = open(os.path.join('cornell_movie_dialogs_corpus', 'movie_titles_metadata.txt')).read().split('\\n')\n",
    "\n",
    "# Removing the delimiters\n",
    "#cols = ['movieID', 'movie title', 'movie year', 'IMDB rating', 'IMDB votes', 'genres']    \n",
    "title_data_corpus = []\n",
    "for x in fmtm:\n",
    "    if (x != \"\"):\n",
    "        title_data_corpus.append((x.split(' +++$+++ ')))\n",
    "    \n",
    "# Creating a dictionary to link movieID to movie title\n",
    "MovieLookup = {}\n",
    "for i in range(len(title_data_corpus)):\n",
    "    key = title_data_corpus[i][0]\n",
    "    value = title_data_corpus[i][1]\n",
    "    MovieLookup[key] = value\n",
    "\n",
    "# Creating a dictionary to link characterID to character name\n",
    "fmcm = open(os.path.join('cornell_movie_dialogs_corpus', 'movie_characters_metadata.txt')).read().split('\\n')\n",
    "character_data_corpus = []\n",
    "\n",
    "for x in fmcm:\n",
    "    if (x != \"\"):\n",
    "        character_data_corpus.append((x.split(' +++$+++ ')))\n",
    "\n",
    "CharacterLookup = {}\n",
    "for i in range(len(character_data_corpus)):\n",
    "    key = character_data_corpus[i][0]\n",
    "    value = character_data_corpus[i][1]\n",
    "    CharacterLookup[key] = value\n",
    "    \n",
    "# Creating a dictionary to link lineID to line text\n",
    "fml = open(os.path.join('cornell_movie_dialogs_corpus', 'movie_lines.txt')).read().split('\\n')\n",
    "movie_line_corpus = []\n",
    "\n",
    "for x in fml:\n",
    "    if (x != \"\"):\n",
    "        movie_line_corpus.append((x.split(' +++$+++ ')))\n",
    "\n",
    "LineLookup = {}\n",
    "for i in range(len(movie_line_corpus)):\n",
    "    key = movie_line_corpus[i][0]\n",
    "    value = movie_line_corpus[i][4]\n",
    "    LineLookup[key] = value\n",
    "    \n",
    "# Creating a dictionary to link every comment with its corresponding response\n",
    "fmc = open(os.path.join('cornell_movie_dialogs_corpus', 'movie_conversations.txt')).read().split('\\n')\n",
    "\n",
    "questionArray = []\n",
    "responseArray = []\n",
    "for x in fmc:\n",
    "    if (x != \"\"):\n",
    "        current_line = (x.split(' +++$+++ '))\n",
    "        conversation_flow = current_line[3]\n",
    "        \n",
    "        # To convert the string to list\n",
    "        conversation_flow = ast.literal_eval(conversation_flow)\n",
    "        \n",
    "        # Storing questions and their corresponding responses for later use\n",
    "        for i in range(len(conversation_flow)-1):\n",
    "            questionArray.append(conversation_flow[i])\n",
    "            responseArray.append(conversation_flow[i+1])\n",
    "            \n",
    "\n",
    "# Store the actual conversations by looking up the lineIDs and removing punctuations         \n",
    "questionData = []\n",
    "responseData = []\n",
    "tokenizer = RegexpTokenizer(r'\\w+')\n",
    "for index in range(len(questionArray)):\n",
    "    questionData.append(tokenizer.tokenize(LineLookup[questionArray[index]]))\n",
    "    responseData.append(tokenizer.tokenize(LineLookup[responseArray[index]]))\n",
    "\n",
    "# Saving lists as pickles for later use            \n",
    "with open(os.path.join('pickles','question.pickle'), 'wb') as handle:\n",
    "    pickle.dump(questionData, handle, protocol=pickle.HIGHEST_PROTOCOL)\n",
    "    \n",
    "with open(os.path.join('pickles','response.pickle'), 'wb') as handle:\n",
    "    pickle.dump(responseData, handle, protocol=pickle.HIGHEST_PROTOCOL) "
   ]
  },
  {
   "cell_type": "code",
   "execution_count": 26,
   "metadata": {},
   "outputs": [
    {
     "data": {
      "text/plain": [
       "['How', 'many', 'people', 'were', 'in', 'your', 'old', 'school']"
      ]
     },
     "execution_count": 26,
     "metadata": {},
     "output_type": "execute_result"
    }
   ],
   "source": [
    "questionData[138]"
   ]
  },
  {
   "cell_type": "code",
   "execution_count": null,
   "metadata": {},
   "outputs": [],
   "source": []
  }
 ],
 "metadata": {
  "kernelspec": {
   "display_name": "Python 3",
   "language": "python",
   "name": "python3"
  },
  "language_info": {
   "codemirror_mode": {
    "name": "ipython",
    "version": 3
   },
   "file_extension": ".py",
   "mimetype": "text/x-python",
   "name": "python",
   "nbconvert_exporter": "python",
   "pygments_lexer": "ipython3",
   "version": "3.7.1"
  }
 },
 "nbformat": 4,
 "nbformat_minor": 2
}
