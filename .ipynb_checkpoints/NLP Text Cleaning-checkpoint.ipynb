{
 "cells": [
  {
   "cell_type": "code",
   "execution_count": 132,
   "metadata": {},
   "outputs": [
    {
     "ename": "AttributeError",
     "evalue": "'list' object has no attribute 'close'",
     "output_type": "error",
     "traceback": [
      "\u001b[1;31m---------------------------------------------------------------------------\u001b[0m",
      "\u001b[1;31mAttributeError\u001b[0m                            Traceback (most recent call last)",
      "\u001b[1;32m<ipython-input-132-d09cd6ade694>\u001b[0m in \u001b[0;36m<module>\u001b[1;34m\u001b[0m\n\u001b[0;32m     12\u001b[0m     \u001b[1;32mif\u001b[0m \u001b[1;33m(\u001b[0m\u001b[0mx\u001b[0m \u001b[1;33m!=\u001b[0m \u001b[1;34m\"\"\u001b[0m\u001b[1;33m)\u001b[0m\u001b[1;33m:\u001b[0m\u001b[1;33m\u001b[0m\u001b[1;33m\u001b[0m\u001b[0m\n\u001b[0;32m     13\u001b[0m         \u001b[0mtitle_data_corpus\u001b[0m\u001b[1;33m.\u001b[0m\u001b[0mappend\u001b[0m\u001b[1;33m(\u001b[0m\u001b[1;33m(\u001b[0m\u001b[0mx\u001b[0m\u001b[1;33m.\u001b[0m\u001b[0msplit\u001b[0m\u001b[1;33m(\u001b[0m\u001b[1;34m' +++$+++ '\u001b[0m\u001b[1;33m)\u001b[0m\u001b[1;33m)\u001b[0m\u001b[1;33m)\u001b[0m\u001b[1;33m\u001b[0m\u001b[1;33m\u001b[0m\u001b[0m\n\u001b[1;32m---> 14\u001b[1;33m \u001b[0mfmtm\u001b[0m\u001b[1;33m.\u001b[0m\u001b[0mclose\u001b[0m\u001b[1;33m(\u001b[0m\u001b[1;33m)\u001b[0m\u001b[1;33m\u001b[0m\u001b[1;33m\u001b[0m\u001b[0m\n\u001b[0m\u001b[0;32m     15\u001b[0m \u001b[1;31m# Creating a dictionary to link movieID to movie title\u001b[0m\u001b[1;33m\u001b[0m\u001b[1;33m\u001b[0m\u001b[1;33m\u001b[0m\u001b[0m\n\u001b[0;32m     16\u001b[0m \u001b[0mMovieLookup\u001b[0m \u001b[1;33m=\u001b[0m \u001b[1;33m{\u001b[0m\u001b[1;33m}\u001b[0m\u001b[1;33m\u001b[0m\u001b[1;33m\u001b[0m\u001b[0m\n",
      "\u001b[1;31mAttributeError\u001b[0m: 'list' object has no attribute 'close'"
     ]
    }
   ],
   "source": [
    "import os.path\n",
    "import pandas as pd\n",
    "import numpy as np\n",
    "\n",
    "# Splitting on new lines to create a list of strings in the file\n",
    "fmtm  = open(os.path.join('cornell_movie_dialogs_corpus', 'movie_titles_metadata.txt')).read().split('\\n')\n",
    "\n",
    "# Removing the delimiters\n",
    "#cols = ['movieID', 'movie title', 'movie year', 'IMDB rating', 'IMDB votes', 'genres']    \n",
    "title_data_corpus = []\n",
    "for x in fmtm:\n",
    "    if (x != \"\"):\n",
    "        title_data_corpus.append((x.split(' +++$+++ ')))\n",
    "    \n",
    "# Creating a dictionary to link movieID to movie title\n",
    "MovieLookup = {}\n",
    "for i in range(len(title_data_corpus)):\n",
    "    key = title_data_corpus[i][0]\n",
    "    value = title_data_corpus[i][1]\n",
    "    MovieLookup[key] = value\n",
    "\n",
    "# Creating a dictionary to link characterID to character name\n",
    "fmcm = open(os.path.join('cornell_movie_dialogs_corpus', 'movie_characters_metadata.txt')).read().split('\\n')\n",
    "character_data_corpus = []\n",
    "\n",
    "for x in fmcm:\n",
    "    if (x != \"\"):\n",
    "        character_data_corpus.append((x.split(' +++$+++ ')))\n",
    "\n",
    "CharacterLookup = {}\n",
    "for i in range(len(character_data_corpus)):\n",
    "    key = character_data_corpus[i][0]\n",
    "    value = character_data_corpus[i][1]\n",
    "    CharacterLookup[key] = value\n",
    "\n",
    "CharacterLookup['u12']"
   ]
  },
  {
   "cell_type": "code",
   "execution_count": 131,
   "metadata": {},
   "outputs": [
    {
     "data": {
      "text/plain": [
       "'ALONSO'"
      ]
     },
     "execution_count": 131,
     "metadata": {},
     "output_type": "execute_result"
    }
   ],
   "source": []
  },
  {
   "cell_type": "code",
   "execution_count": null,
   "metadata": {},
   "outputs": [],
   "source": []
  }
 ],
 "metadata": {
  "kernelspec": {
   "display_name": "Python 3",
   "language": "python",
   "name": "python3"
  },
  "language_info": {
   "codemirror_mode": {
    "name": "ipython",
    "version": 3
   },
   "file_extension": ".py",
   "mimetype": "text/x-python",
   "name": "python",
   "nbconvert_exporter": "python",
   "pygments_lexer": "ipython3",
   "version": "3.7.1"
  }
 },
 "nbformat": 4,
 "nbformat_minor": 2
}
