{
 "cells": [
  {
   "cell_type": "code",
   "execution_count": 134,
   "metadata": {
    "scrolled": false
   },
   "outputs": [],
   "source": [
    "import os.path\n",
    "import pandas as pd\n",
    "import numpy as np\n",
    "\n",
    "# Splitting on new lines to create a list of strings in the file\n",
    "fmtm  = open(os.path.join('cornell_movie_dialogs_corpus', 'movie_titles_metadata.txt')).read().split('\\n')\n",
    "\n",
    "# Removing the delimiters\n",
    "#cols = ['movieID', 'movie title', 'movie year', 'IMDB rating', 'IMDB votes', 'genres']    \n",
    "title_data_corpus = []\n",
    "for x in fmtm:\n",
    "    if (x != \"\"):\n",
    "        title_data_corpus.append((x.split(' +++$+++ ')))\n",
    "    \n",
    "# Creating a dictionary to link movieID to movie title\n",
    "MovieLookup = {}\n",
    "for i in range(len(title_data_corpus)):\n",
    "    key = title_data_corpus[i][0]\n",
    "    value = title_data_corpus[i][1]\n",
    "    MovieLookup[key] = value\n",
    "\n",
    "# Creating a dictionary to link characterID to character name\n",
    "fmcm = open(os.path.join('cornell_movie_dialogs_corpus', 'movie_characters_metadata.txt')).read().split('\\n')\n",
    "character_data_corpus = []\n",
    "\n",
    "for x in fmcm:\n",
    "    if (x != \"\"):\n",
    "        character_data_corpus.append((x.split(' +++$+++ ')))\n",
    "\n",
    "CharacterLookup = {}\n",
    "for i in range(len(character_data_corpus)):\n",
    "    key = character_data_corpus[i][0]\n",
    "    value = character_data_corpus[i][1]\n",
    "    CharacterLookup[key] = value\n",
    "    \n",
    "# Creating a dictionary to link lineID to line text\n",
    "fml = open(os.path.join('cornell_movie_dialogs_corpus', 'movie_lines.txt')).read().split('\\n')\n",
    "movie_line_corpus = []\n",
    "\n",
    "for x in fml:\n",
    "    if (x != \"\"):\n",
    "        movie_line_corpus.append((x.split(' +++$+++ ')))\n",
    "\n",
    "LineLookup = {}\n",
    "for i in range(len(movie_line_corpus)):\n",
    "    key = movie_line_corpus[i][0]\n",
    "    value = movie_line_corpus[i][4]\n",
    "    LineLookup[key] = value"
   ]
  },
  {
   "cell_type": "code",
   "execution_count": 165,
   "metadata": {},
   "outputs": [
    {
     "name": "stdout",
     "output_type": "stream",
     "text": [
      "question= response'\n",
      "question=' responseL\n",
      "question=L response1\n",
      "question=1 response9\n",
      "question=9 response4\n",
      "question=4 response'\n",
      "question=' response,\n",
      "question=, response \n",
      "question=  response'\n",
      "question=' responseL\n",
      "question=L response1\n",
      "question=1 response9\n",
      "question=9 response5\n",
      "question=5 response'\n",
      "question=' response,\n",
      "question=, response \n",
      "question=  response'\n",
      "question=' responseL\n",
      "question=L response1\n",
      "question=1 response9\n",
      "question=9 response6\n",
      "question=6 response'\n",
      "question=' response,\n",
      "question=, response \n",
      "question=  response'\n",
      "question=' responseL\n",
      "question=L response1\n",
      "question=1 response9\n",
      "question=9 response7\n",
      "question=7 response'\n",
      "question=' response\n"
     ]
    }
   ],
   "source": [
    "# Creating a dictionary to link every comment with its corresponding response\n",
    "fmc = open(os.path.join('cornell_movie_dialogs_corpus', 'movie_conversations.txt')).read().split('\\n')\n",
    "\n",
    "count=1\n",
    "for x in fmc:\n",
    "    if (x != \"\"):\n",
    "        current_line = (x.split(' +++$+++ '))\n",
    "        conversation_flow = current_line[3]\n",
    "        a = list(conversation_flow)\n",
    "        print(a)\n",
    "        #for i in range(len(a)-1):\n",
    "         #   print('question='+a[i].replace(\"[\", \"\").replace(\"]\", \"\"),'response'+a[i+1].replace(\"[\", \"\").replace(\"]\", \"\"))\n",
    "        count=count-1\n",
    "    if (count <= 0):\n",
    "        break"
   ]
  },
  {
   "cell_type": "code",
   "execution_count": null,
   "metadata": {},
   "outputs": [],
   "source": []
  }
 ],
 "metadata": {
  "kernelspec": {
   "display_name": "Python 3",
   "language": "python",
   "name": "python3"
  },
  "language_info": {
   "codemirror_mode": {
    "name": "ipython",
    "version": 3
   },
   "file_extension": ".py",
   "mimetype": "text/x-python",
   "name": "python",
   "nbconvert_exporter": "python",
   "pygments_lexer": "ipython3",
   "version": "3.7.1"
  }
 },
 "nbformat": 4,
 "nbformat_minor": 2
}
