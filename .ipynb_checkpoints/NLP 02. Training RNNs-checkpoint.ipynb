{
 "cells": [
  {
   "cell_type": "code",
   "execution_count": 16,
   "metadata": {},
   "outputs": [],
   "source": [
    "import pickle\n",
    "import os.path\n",
    "import nltk\n",
    "\n",
    "with open(os.path.join('pickles','question.pickle'), 'rb') as f:\n",
    "    questionData = pickle.load(f)\n",
    "with open(os.path.join('pickles','response.pickle'), 'rb') as f:\n",
    "    responseData = pickle.load(f)\n"
   ]
  },
  {
   "cell_type": "code",
   "execution_count": 17,
   "metadata": {},
   "outputs": [],
   "source": [
    "#Create training and testing data\n",
    "test_ques = questionData[:5000]\n",
    "test_resp = responseData[:5000]\n",
    "\n",
    "train_ques = questionData[5000:]\n",
    "train_resp = responseData[5000:]\n"
   ]
  }
 ],
 "metadata": {
  "kernelspec": {
   "display_name": "Python 3",
   "language": "python",
   "name": "python3"
  },
  "language_info": {
   "codemirror_mode": {
    "name": "ipython",
    "version": 3
   },
   "file_extension": ".py",
   "mimetype": "text/x-python",
   "name": "python",
   "nbconvert_exporter": "python",
   "pygments_lexer": "ipython3",
   "version": "3.7.1"
  }
 },
 "nbformat": 4,
 "nbformat_minor": 2
}
